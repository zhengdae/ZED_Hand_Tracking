{
 "cells": [
  {
   "cell_type": "code",
   "execution_count": null,
   "metadata": {},
   "outputs": [],
   "source": [
    "import rclpy\n",
    "from rclpy.node import Node\n",
    "from sensor_msgs.msg import Image\n",
    "from cv_bridge import CvBridge\n",
    "import cv2\n",
    "import numpy as np\n",
    "import pandas as pd\n",
    "from time import time, sleep\n",
    "from datetime import datetime"
   ]
  },
  {
   "cell_type": "code",
   "execution_count": null,
   "metadata": {},
   "outputs": [],
   "source": [
    "# Create directories for saving images\n",
    "import os\n",
    "CAM_1_left_images_dir = 'CAM_1_left_images'\n",
    "CAM_1_right_images_dir = 'CAM_1_right_images'\n",
    "CAM_1_depth_images_dir = 'CAM_1_depth_images'\n",
    "os.makedirs(CAM_1_left_images_dir, exist_ok=True)\n",
    "os.makedirs(CAM_1_right_images_dir, exist_ok=True)\n",
    "os.makedirs(CAM_1_depth_images_dir, exist_ok=True)"
   ]
  },
  {
   "cell_type": "code",
   "execution_count": null,
   "metadata": {},
   "outputs": [],
   "source": [
    "class SimpleDataCollector(Node):\n",
    "    def __init__(self):\n",
    "        super().__init__('simple_data_collector')\n",
    "        ##############################################################################\n",
    "        self.bridge = CvBridge()\n",
    "        self.last_timestamp = 0\n",
    "        self.sync_rate = 1/100\n",
    "        ##############################################################################\n",
    "        self.CAM_1_left_image = None\n",
    "        self.CAM_1_right_image = None\n",
    "        self.CAM_1_depth_image = None\n",
    "        ##############################################################################\n",
    "        self.CAM_1_left_time = 0\n",
    "        self.CAM_1_right_time = 0\n",
    "        self.CAM_1_depth_time = 0\n",
    "        ##############################################################################\n",
    "        self.CAM_1_left_image_sub = self.create_subscription(Image, '/cam_1/zed_node/left/image_rect_color', self.CAM_1_left_image_callback, 10)\n",
    "        self.CAM_1_right_image_sub = self.create_subscription(Image, '/cam_1/zed_node/right/image_rect_color', self.CAM_1_right_image_callback, 10)\n",
    "        self.CAM_1_depth_image_sub = self.create_subscription(Image, '/cam_1/zed_node/depth/depth_registered', self.CAM_1_depth_image_callback, 10)\n",
    "    def synchronization(self):\n",
    "        #if self.left_image is not None and self.right_image is not None and self.depth_image is not None:\n",
    "\n",
    "        if self.CAM_1_left_time == self.CAM_1_right_time == self.CAM_1_depth_time:\n",
    "            ##########################################################################\n",
    "            cv_CAM_1_left = self.bridge.imgmsg_to_cv2(self.CAM_1_left_image, desired_encoding='bgr8')\n",
    "            cv_CAM_1_right = self.bridge.imgmsg_to_cv2(self.CAM_1_right_image, desired_encoding='bgr8')\n",
    "            cv_CAM_1_depth = self.bridge.imgmsg_to_cv2(self.CAM_1_depth_image, desired_encoding='passthrough')\n",
    "            ##########################################################################\n",
    "            CAM_1_left_filename = f\"{CAM_1_left_images_dir}/frame_{self.CAM_1_left_time}.png\"\n",
    "            CAM_1_right_filename = f\"{CAM_1_right_images_dir}/frame_{self.CAM_1_right_time}.png\"\n",
    "            CAM_1_depth_filename = f\"{CAM_1_depth_images_dir}/frame_{self.CAM_1_depth_time}.npy\"\n",
    "            ##########################################################################\n",
    "            cv2.imwrite(CAM_1_left_filename, cv_CAM_1_left)\n",
    "            cv2.imwrite(CAM_1_right_filename, cv_CAM_1_right)\n",
    "            np.save(CAM_1_depth_filename, cv_CAM_1_depth)\n",
    "            ###########################################################################\n",
    "            print('Current time is:' + str(self.CAM_1_left_time))\n",
    "            interval = self.CAM_1_left_time - self.last_timestamp\n",
    "            print('Time   interval:' + str(interval))\n",
    "            ###########################################################################\n",
    "            self.last_timestamp = self.CAM_1_left_time\n",
    "    ###################################################################################\n",
    "    def CAM_1_left_image_callback(self, msg):\n",
    "        self.CAM_1_left_image = msg\n",
    "        self.CAM_1_left_time = self.CAM_1_left_image.header.stamp.sec + self.CAM_1_left_image.header.stamp.nanosec / 1e9\n",
    "        self.synchronization()\n",
    "    def CAM_1_right_image_callback(self, msg):\n",
    "        self.CAM_1_right_image = msg\n",
    "        self.CAM_1_right_time = self.CAM_1_right_image.header.stamp.sec + self.CAM_1_right_image.header.stamp.nanosec / 1e9\n",
    "        self.synchronization()\n",
    "    def CAM_1_depth_image_callback(self, msg):\n",
    "        self.CAM_1_depth_image = msg\n",
    "        self.CAM_1_depth_time = self.CAM_1_depth_image.header.stamp.sec + self.CAM_1_depth_image.header.stamp.nanosec / 1e9\n",
    "        self.synchronization()"
   ]
  },
  {
   "cell_type": "code",
   "execution_count": null,
   "metadata": {},
   "outputs": [],
   "source": [
    "rclpy.init()\n",
    "simple_data_collector = SimpleDataCollector()\n",
    "rclpy.spin(simple_data_collector)"
   ]
  },
  {
   "cell_type": "markdown",
   "metadata": {},
   "source": []
  }
 ],
 "metadata": {
  "kernelspec": {
   "display_name": "camera",
   "language": "python",
   "name": "python3"
  },
  "language_info": {
   "codemirror_mode": {
    "name": "ipython",
    "version": 3
   },
   "file_extension": ".py",
   "mimetype": "text/x-python",
   "name": "python",
   "nbconvert_exporter": "python",
   "pygments_lexer": "ipython3",
   "version": "3.10.13"
  }
 },
 "nbformat": 4,
 "nbformat_minor": 2
}
