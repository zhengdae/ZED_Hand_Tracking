{
 "cells": [
  {
   "cell_type": "code",
   "execution_count": null,
   "metadata": {},
   "outputs": [],
   "source": [
    "import PyQt5\n",
    "%matplotlib qt\n",
    "from tracking import handtracking\n",
    "import cv2\n",
    "import matplotlib.pyplot as plt\n",
    "import numpy as np\n",
    "import sys\n",
    "import datetime\n",
    "import glob"
   ]
  },
  {
   "cell_type": "code",
   "execution_count": null,
   "metadata": {},
   "outputs": [],
   "source": [
    "# The Camera parameters at VGA\n",
    "fx = 265.9705505371094\n",
    "cx = 315.7644348144531\n",
    "fy = 265.9705505371094\n",
    "cy = 178.95948791503906\n",
    "\n",
    "width = 672\n",
    "height = 376"
   ]
  },
  {
   "cell_type": "code",
   "execution_count": null,
   "metadata": {},
   "outputs": [],
   "source": [
    "detector = handtracking()"
   ]
  },
  {
   "cell_type": "code",
   "execution_count": null,
   "metadata": {},
   "outputs": [],
   "source": [
    "fig = plt.figure()\n",
    "plt.ion()\n",
    "ax = fig.add_subplot(111, projection='3d')"
   ]
  },
  {
   "cell_type": "code",
   "execution_count": null,
   "metadata": {},
   "outputs": [],
   "source": [
    "left_filenames = glob.glob('CAM_1_left_images/*.png')\n",
    "left_filenames = sorted(left_filenames)\n",
    "\n",
    "depth_filenames = glob.glob('CAM_1_depth_images/*.npy')\n",
    "depth_filenames = sorted(depth_filenames)"
   ]
  },
  {
   "cell_type": "code",
   "execution_count": null,
   "metadata": {},
   "outputs": [],
   "source": [
    "for image_path, depth_path in zip(left_filenames, depth_filenames):\n",
    "    print(image_path)\n",
    "    print(depth_path)\n",
    "    image = cv2.imread(image_path)\n",
    "    depth = np.load(depth_path)\n",
    "    image = detector.detect_landmarks(image)\n",
    "    \n",
    "\n",
    "    data_left, data_right = detector.get_position(image, depth, fx = fx, fy = fy, cx = cx, cy =cy, width=width, height=height)\n",
    "\n",
    "    if data_right.shape == (21,3) and data_left.shape == (21,3):\n",
    "        data_plot = np.vstack((data_right,data_left))\n",
    "    elif data_right.shape == (21,3):\n",
    "        data_plot = data_right\n",
    "    elif data_left.shape == (21,3):\n",
    "        data_plot = data_left\n",
    "    else:\n",
    "        data_plot = np.array([])\n",
    "    detector.plot(ax,plt,data_plot)\n",
    "\n",
    "    cv2.imshow(\"test\", image)\n",
    "    if cv2.waitKey(1) & 0xFF == ord('q'):\n",
    "        break\n",
    "cv2.destroyAllWindows()"
   ]
  },
  {
   "cell_type": "code",
   "execution_count": null,
   "metadata": {},
   "outputs": [],
   "source": []
  }
 ],
 "metadata": {
  "kernelspec": {
   "display_name": "camera",
   "language": "python",
   "name": "python3"
  },
  "language_info": {
   "codemirror_mode": {
    "name": "ipython",
    "version": 3
   },
   "file_extension": ".py",
   "mimetype": "text/x-python",
   "name": "python",
   "nbconvert_exporter": "python",
   "pygments_lexer": "ipython3",
   "version": "3.1.0"
  }
 },
 "nbformat": 4,
 "nbformat_minor": 2
}
