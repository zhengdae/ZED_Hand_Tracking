{
 "cells": [
  {
   "cell_type": "code",
   "execution_count": null,
   "metadata": {},
   "outputs": [],
   "source": [
    "import rclpy\n",
    "from rclpy.node import Node\n",
    "from sensor_msgs.msg import Image, PointCloud2\n",
    "from cv_bridge import CvBridge\n",
    "import cv2\n",
    "import numpy as np\n",
    "import pandas as pd\n",
    "from time import time, sleep\n",
    "from datetime import datetime"
   ]
  },
  {
   "cell_type": "code",
   "execution_count": null,
   "metadata": {},
   "outputs": [],
   "source": [
    "# Create directories for saving images\n",
    "import os\n",
    "left_images_dir = 'left_images'\n",
    "right_images_dir = 'right_images'\n",
    "depth_images_dir = 'depth_images'\n",
    "os.makedirs(left_images_dir, exist_ok=True)\n",
    "os.makedirs(right_images_dir, exist_ok=True)\n",
    "os.makedirs(depth_images_dir, exist_ok=True)"
   ]
  },
  {
   "cell_type": "code",
   "execution_count": null,
   "metadata": {},
   "outputs": [],
   "source": [
    "class SimpleDataCollector(Node):\n",
    "    def __init__(self):\n",
    "        super().__init__('simple_data_collector')\n",
    "\n",
    "        self.left_image_sub = self.create_subscription(Image, '/cam_1/zed_node/left/image_rect_color', self.left_image_callback, 10)\n",
    "        self.right_image_sub = self.create_subscription(Image, '/cam_1/zed_node/right/image_rect_color', self.right_image_callback, 10)\n",
    "        self.depth_image_sub = self.create_subscription(Image, '/cam_1/zed_node/depth/depth_registered', self.depth_image_callback, 10)\n",
    "        \n",
    "        self.last_timestamp = 0\n",
    "        self.sync_rate = 1/100\n",
    "        \n",
    "        self.left_image = None\n",
    "        self.right_image = None\n",
    "        self.depth_image = None\n",
    "\n",
    "        self.left_time = 0\n",
    "        self.right_time = 0\n",
    "        self.depth_time = 0\n",
    "\n",
    "    def synchronization(self):\n",
    "        if self.left_image is not None and self.right_image is not None and self.depth_image:\n",
    "            if self.left_time == self.right_time == self.depth_time:\n",
    "                if self.left_time - self.last_timestamp >= self.sync_rate:\n",
    "\n",
    "                    print('Current time: ' + str(datetime.fromtimestamp(self.left_time)))\n",
    "                    print('Interval: ' + str(self.left_time - self.last_timestamp))\n",
    "\n",
    "                    cv_left = bridge.imgmsg_to_cv2(self.left_image, desired_encoding='bgr8')\n",
    "                    cv_right = bridge.imgmsg_to_cv2(self.right_image, desired_encoding='bgr8')\n",
    "                    cv_depth = bridge.imgmsg_to_cv2(self.depth_image, desired_encoding='passthrough')\n",
    "\n",
    "                    left_filename = f\"{left_images_dir}/frame_{self.left_time}.png\"\n",
    "                    right_filename = f\"{right_images_dir}/frame_{self.right_time}.png\"\n",
    "                    depth_filename = f\"{depth_images_dir}/frame_{self.depth_time}.png\"\n",
    "\n",
    "                    cv2.imwrite(left_filename, cv_left)\n",
    "                    cv2.imwrite(right_filename, cv_right)\n",
    "                    cv2.imwrite(depth_filename, cv_depth)\n",
    "\n",
    "                    self.last_timestamp = self.left_time\n",
    "\n",
    "    def left_image_callback(self, msg):\n",
    "        self.left_image = msg\n",
    "        self.left_time = self.left_image.header.stamp.sec + self.left_image.header.stamp.nanosec / 1e9\n",
    "        self.synchronization()\n",
    "\n",
    "    def right_image_callback(self, msg):\n",
    "        self.right_image = msg\n",
    "        self.right_time = self.right_image.header.stamp.sec + self.right_image.header.stamp.nanosec / 1e9\n",
    "        self.synchronization()\n",
    "\n",
    "    def depth_image_callback(self, msg):\n",
    "        self.depth_image = msg\n",
    "        self.depth_time = self.depth_image.header.stamp.sec + self.depth_image.header.stamp.nanosec / 1e9\n",
    "        self.synchronization()"
   ]
  },
  {
   "cell_type": "code",
   "execution_count": null,
   "metadata": {},
   "outputs": [],
   "source": [
    "bridge = CvBridge()\n",
    "rclpy.init()\n",
    "simple_data_collector = SimpleDataCollector()\n",
    "rclpy.spin(simple_data_collector)"
   ]
  },
  {
   "cell_type": "markdown",
   "metadata": {},
   "source": []
  }
 ],
 "metadata": {
  "kernelspec": {
   "display_name": "camera",
   "language": "python",
   "name": "python3"
  },
  "language_info": {
   "codemirror_mode": {
    "name": "ipython",
    "version": 3
   },
   "file_extension": ".py",
   "mimetype": "text/x-python",
   "name": "python",
   "nbconvert_exporter": "python",
   "pygments_lexer": "ipython3",
   "version": "3.10.13"
  }
 },
 "nbformat": 4,
 "nbformat_minor": 2
}
