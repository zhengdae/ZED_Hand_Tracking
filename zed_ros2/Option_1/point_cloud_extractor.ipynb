{
 "cells": [
  {
   "cell_type": "markdown",
   "metadata": {},
   "source": [
    "This file will extract the Point Cloud data from a rosbag file, and save the Point Cloud data of each timestamp as a .csv file.\n",
    "\n",
    "The file will create a folder to save the point cloud data.\n",
    "\n",
    "The .csv file will be named by frame (timestamp) numbers."
   ]
  },
  {
   "cell_type": "code",
   "execution_count": 1,
   "metadata": {},
   "outputs": [],
   "source": [
    "import rosbag2_py\n",
    "import pandas as pd\n",
    "from sensor_msgs.msg import PointCloud2\n",
    "import os\n",
    "from rclpy.serialization import deserialize_message\n",
    "from rosidl_runtime_py.utilities import get_message\n",
    "import numpy as np"
   ]
  },
  {
   "cell_type": "code",
   "execution_count": 2,
   "metadata": {},
   "outputs": [],
   "source": [
    "# Bag file path and filename, Change it when you need to\n",
    "bag_file_path = '/home/yz27246-admin/test_bag'\n",
    "\n",
    "# Point Cloud topic\n",
    "CAM1_PC = '/cam_1/zed_node/point_cloud/cloud_registered'"
   ]
  },
  {
   "cell_type": "code",
   "execution_count": 3,
   "metadata": {},
   "outputs": [
    {
     "name": "stderr",
     "output_type": "stream",
     "text": [
      "[INFO] [1707262320.773693807] [rosbag2_storage]: Opened database '/home/yz27246-admin/test_bag/test_bag_0.db3' for READ_ONLY.\n"
     ]
    }
   ],
   "source": [
    "# Define and initialize ROS2 bag reader\n",
    "reader = rosbag2_py.SequentialReader()\n",
    "\n",
    "storage_options = rosbag2_py.StorageOptions(uri=bag_file_path)\n",
    "\n",
    "converter_options = rosbag2_py.ConverterOptions(\n",
    "        input_serialization_format='cdr', output_serialization_format='cdr')\n",
    "\n",
    "reader.open(storage_options, converter_options)"
   ]
  },
  {
   "cell_type": "code",
   "execution_count": 4,
   "metadata": {},
   "outputs": [],
   "source": [
    "import os\n",
    "# Create directory and folder for saving CSV files\n",
    "point_cloud_dir = 'point_clouds'\n",
    "os.makedirs(point_cloud_dir, exist_ok=True)"
   ]
  },
  {
   "cell_type": "code",
   "execution_count": 5,
   "metadata": {},
   "outputs": [],
   "source": [
    "# Convert message type\n",
    "msg_type = get_message('sensor_msgs/msg/PointCloud2')"
   ]
  },
  {
   "cell_type": "code",
   "execution_count": 6,
   "metadata": {},
   "outputs": [],
   "source": [
    "# Function to convert point cloud data to a pandas DataFrame\n",
    "def point_cloud2_to_df(msg):\n",
    "    # Import here to handle the dynamic nature of PointCloud2\n",
    "    from sensor_msgs_py import point_cloud2\n",
    "    # convert point cloud to numpy array\n",
    "    cloud_points = np.array(point_cloud2.read_points(msg, skip_nans=False))\n",
    "    # convert the data to Dataframe\n",
    "    df = pd.DataFrame(cloud_points)\n",
    "    return df"
   ]
  },
  {
   "cell_type": "code",
   "execution_count": 7,
   "metadata": {},
   "outputs": [],
   "source": [
    "while reader.has_next():\n",
    "    # read the data at the next timestamp\n",
    "    (topic_name, data, timestamp) = reader.read_next()\n",
    "    if topic_name == CAM1_PC:\n",
    "        pc_msg = deserialize_message(data, msg_type)\n",
    "        df = point_cloud2_to_df(pc_msg)\n",
    "        csv_filename = f\"{point_cloud_dir}/point_cloud_{timestamp}.csv\"\n",
    "        df.to_csv(csv_filename, index=False)"
   ]
  }
 ],
 "metadata": {
  "kernelspec": {
   "display_name": "camera",
   "language": "python",
   "name": "python3"
  },
  "language_info": {
   "codemirror_mode": {
    "name": "ipython",
    "version": 3
   },
   "file_extension": ".py",
   "mimetype": "text/x-python",
   "name": "python",
   "nbconvert_exporter": "python",
   "pygments_lexer": "ipython3",
   "version": "3.10.13"
  }
 },
 "nbformat": 4,
 "nbformat_minor": 2
}
