{
 "cells": [
  {
   "cell_type": "markdown",
   "metadata": {},
   "source": [
    "This file will extract the left images and right images from a rosbag file, and save the images as .png pictures. \n",
    "\n",
    "Thie file will create folders to save left and right images.\n",
    "\n",
    "The .png files will be named by frame (timestamp) numbers."
   ]
  },
  {
   "cell_type": "code",
   "execution_count": 1,
   "metadata": {},
   "outputs": [],
   "source": [
    "import rosbag2_py\n",
    "import cv_bridge\n",
    "import os\n",
    "import cv2\n",
    "from sensor_msgs.msg import Image\n",
    "from rclpy.serialization import deserialize_message\n",
    "from rosidl_runtime_py.utilities import get_message"
   ]
  },
  {
   "cell_type": "code",
   "execution_count": 2,
   "metadata": {},
   "outputs": [],
   "source": [
    "# Bag File Path, change if you want to, \n",
    "# this one is just for testing\n",
    "bag_file_path = '/home/yz27246-admin/test_bag'\n",
    "# Image Topics, just left right images from ONE camera\n",
    "CAM1_L = '/cam_1/zed_node/left/image_rect_color'\n",
    "CAM1_R = '/cam_1/zed_node/right/image_rect_color'"
   ]
  },
  {
   "cell_type": "code",
   "execution_count": 3,
   "metadata": {},
   "outputs": [
    {
     "name": "stderr",
     "output_type": "stream",
     "text": [
      "[INFO] [1707260106.150250366] [rosbag2_storage]: Opened database '/home/yz27246-admin/test_bag/test_bag_0.db3' for READ_ONLY.\n"
     ]
    }
   ],
   "source": [
    "reader = rosbag2_py.SequentialReader()\n",
    "storage_options = rosbag2_py.StorageOptions(uri=bag_file_path)\n",
    "converter_options = rosbag2_py.ConverterOptions(\n",
    "        input_serialization_format='cdr', output_serialization_format='cdr')\n",
    "reader.open(storage_options, converter_options)"
   ]
  },
  {
   "cell_type": "code",
   "execution_count": 4,
   "metadata": {},
   "outputs": [],
   "source": [
    "bridge = cv_bridge.CvBridge()"
   ]
  },
  {
   "cell_type": "code",
   "execution_count": 5,
   "metadata": {},
   "outputs": [],
   "source": [
    "# Create directories for saving images\n",
    "import os\n",
    "left_images_dir = 'left_images'\n",
    "right_images_dir = 'right_images'\n",
    "os.makedirs(left_images_dir, exist_ok=True)\n",
    "os.makedirs(right_images_dir, exist_ok=True)"
   ]
  },
  {
   "cell_type": "code",
   "execution_count": 6,
   "metadata": {},
   "outputs": [],
   "source": [
    "msg_type = get_message('sensor_msgs/msg/Image')"
   ]
  },
  {
   "cell_type": "code",
   "execution_count": 7,
   "metadata": {},
   "outputs": [],
   "source": [
    "while reader.has_next():\n",
    "    topic_name, data, timestamp = reader.read_next()\n",
    "    if topic_name == CAM1_L:\n",
    "        image_msg = deserialize_message(data, msg_type)\n",
    "        cv_image = bridge.imgmsg_to_cv2(image_msg, desired_encoding='bgr8')\n",
    "        image_filename = f\"{left_images_dir}/frame_{timestamp}.png\"\n",
    "        cv2.imwrite(image_filename, cv_image)\n",
    "\n",
    "    if topic_name == CAM1_R:\n",
    "        image_msg = deserialize_message(data, msg_type)\n",
    "        cv_image = bridge.imgmsg_to_cv2(image_msg, desired_encoding='bgr8')\n",
    "        image_filename = f\"{right_images_dir}/frame_{timestamp}.png\"\n",
    "        cv2.imwrite(image_filename, cv_image)"
   ]
  }
 ],
 "metadata": {
  "kernelspec": {
   "display_name": "camera",
   "language": "python",
   "name": "python3"
  },
  "language_info": {
   "codemirror_mode": {
    "name": "ipython",
    "version": 3
   },
   "file_extension": ".py",
   "mimetype": "text/x-python",
   "name": "python",
   "nbconvert_exporter": "python",
   "pygments_lexer": "ipython3",
   "version": "3.10.13"
  }
 },
 "nbformat": 4,
 "nbformat_minor": 2
}
