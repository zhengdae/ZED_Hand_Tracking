{
 "cells": [
  {
   "cell_type": "code",
   "execution_count": 1,
   "metadata": {},
   "outputs": [],
   "source": [
    "import PyQt5\n",
    "%matplotlib qt\n",
    "import pyzed.sl as sl\n",
    "from ZED import ZED\n",
    "from TRACKING import handtracking\n",
    "import cv2\n",
    "import matplotlib.pyplot as plt\n",
    "import numpy as np\n",
    "import sys"
   ]
  },
  {
   "cell_type": "code",
   "execution_count": 2,
   "metadata": {},
   "outputs": [],
   "source": [
    "LIVE_STREAM = True\n",
    "svo_file_name = \"test.svo\"\n",
    "if LIVE_STREAM == False:\n",
    "    if svo_file_name is None:\n",
    "        print('Undefined .svo file name for processing')\n",
    "        sys.exit()"
   ]
  },
  {
   "cell_type": "code",
   "execution_count": 3,
   "metadata": {},
   "outputs": [
    {
     "name": "stdout",
     "output_type": "stream",
     "text": [
      "Using Live Stream from ZED\n",
      "Open ZED Successfully!\n"
     ]
    }
   ],
   "source": [
    "# Run this Block to Run Hand Tracking with LIVE STREAM VIDEO\n",
    "if LIVE_STREAM == True:\n",
    "    zed = ZED(fps=60)\n",
    "    zed.config_resolution(\"HD720\")\n",
    "    zed.config_depth_mode(\"NEURAL\")\n",
    "    zed.open_camera(fill_mode=True)\n",
    "    zed.get_calibration_params()\n",
    "    fx = zed.fx\n",
    "    fy = zed.fy\n",
    "    cx = zed.cx\n",
    "    cy = zed.cy\n",
    "    width = zed.camera.get_camera_information().camera_configuration.resolution.width\n",
    "    height = zed.camera.get_camera_information().camera_configuration.resolution.height"
   ]
  },
  {
   "cell_type": "code",
   "execution_count": 4,
   "metadata": {},
   "outputs": [],
   "source": [
    "# Run this Block to Run Hand Tracking with RECORDED VIDEO (.SVO FILE)\n",
    "# And Specify .svo File Name\n",
    "if LIVE_STREAM == False:\n",
    "    input_name = svo_file_name\n",
    "    zed = ZED(fps=None, input_filename = input_name)\n",
    "    zed.config_depth_mode(\"NEURAL\")\n",
    "    zed.open_camera(fill_mode=True)\n",
    "    zed.get_calibration_params()\n",
    "    fx = zed.fx\n",
    "    fy = zed.fy\n",
    "    cx = zed.cx\n",
    "    cy = zed.cy\n",
    "    width = zed.camera.get_camera_information().camera_configuration.resolution.width\n",
    "    height = zed.camera.get_camera_information().camera_configuration.resolution.height\n",
    "    svo_frame_rate = zed.camera.get_init_parameters().camera_fps\n",
    "    num_frames = zed.camera.get_svo_number_of_frames()\n",
    "    print(\"The SVO File's Width Is: \", width)\n",
    "    print(\"The SVO File's Height Is: \", height)\n",
    "    print(\"The SVO File's FPS is: \", svo_frame_rate)\n",
    "    print(\"The SVO File's Number of Frames is: \", num_frames)\n"
   ]
  },
  {
   "cell_type": "code",
   "execution_count": 5,
   "metadata": {},
   "outputs": [],
   "source": [
    "detector = handtracking()"
   ]
  },
  {
   "cell_type": "code",
   "execution_count": 6,
   "metadata": {},
   "outputs": [
    {
     "name": "stderr",
     "output_type": "stream",
     "text": [
      "INFO: Created TensorFlow Lite XNNPACK delegate for CPU.\n"
     ]
    }
   ],
   "source": [
    "fig = plt.figure()\n",
    "plt.ion()\n",
    "ax = fig.add_subplot(111, projection='3d')"
   ]
  },
  {
   "cell_type": "code",
   "execution_count": 7,
   "metadata": {},
   "outputs": [
    {
     "name": "stderr",
     "output_type": "stream",
     "text": [
      "/home/drowland-admin/yzheng/hand_tracking/TRACKING.py:40: RuntimeWarning: invalid value encountered in scalar multiply\n",
      "  x_3d = wrist_position[0] + (landmark.x * width - wrist_landmark[0] * width) * wrist_position[2]/fx\n",
      "/home/drowland-admin/yzheng/hand_tracking/TRACKING.py:42: RuntimeWarning: invalid value encountered in scalar multiply\n",
      "  y_3d = wrist_position[1] + (landmark.y * height - wrist_landmark[1] * height) * wrist_position[2]/fy\n",
      "/home/drowland-admin/yzheng/hand_tracking/TRACKING.py:40: RuntimeWarning: invalid value encountered in scalar add\n",
      "  x_3d = wrist_position[0] + (landmark.x * width - wrist_landmark[0] * width) * wrist_position[2]/fx\n",
      "/home/drowland-admin/yzheng/hand_tracking/TRACKING.py:42: RuntimeWarning: invalid value encountered in scalar add\n",
      "  y_3d = wrist_position[1] + (landmark.y * height - wrist_landmark[1] * height) * wrist_position[2]/fy\n"
     ]
    }
   ],
   "source": [
    "while True:\n",
    "    zed.camera.grab(zed.runtime_params)\n",
    "    zed.get_image()\n",
    "    image = zed.image_cv2\n",
    "    point_cloud = zed.point_cloud\n",
    "    image = detector.detect_landmarks(image)\n",
    "    data_left, data_right = detector.get_position(image, point_cloud, fx = fx, fy = fy, width=width, height=height)\n",
    "\n",
    "    if data_right.shape == (21,3) and data_left.shape == (21,3):\n",
    "        data_plot = np.vstack((data_right,data_left))\n",
    "    elif data_right.shape == (21,3):\n",
    "        data_plot = data_right\n",
    "    elif data_left.shape == (21,3):\n",
    "        data_plot = data_left\n",
    "    else:\n",
    "        data_plot = np.array([])\n",
    "    detector.plot(ax,plt,data_plot)\n",
    "\n",
    "    cv2.imshow(\"test\", image)\n",
    "    if cv2.waitKey(1) & 0xFF == ord('q'):\n",
    "        break\n",
    "cv2.destroyAllWindows()\n",
    "zed.camera.close()"
   ]
  },
  {
   "cell_type": "code",
   "execution_count": null,
   "metadata": {},
   "outputs": [],
   "source": []
  }
 ],
 "metadata": {
  "kernelspec": {
   "display_name": "ZED",
   "language": "python",
   "name": "python3"
  },
  "language_info": {
   "codemirror_mode": {
    "name": "ipython",
    "version": 3
   },
   "file_extension": ".py",
   "mimetype": "text/x-python",
   "name": "python",
   "nbconvert_exporter": "python",
   "pygments_lexer": "ipython3",
   "version": "3.8.18"
  }
 },
 "nbformat": 4,
 "nbformat_minor": 2
}
