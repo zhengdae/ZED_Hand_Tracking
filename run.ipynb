{
 "cells": [
  {
   "cell_type": "code",
   "execution_count": 1,
   "metadata": {},
   "outputs": [],
   "source": [
    "import PyQt5\n",
    "%matplotlib qt\n",
    "import pyzed.sl as sl\n",
    "from ZED import ZED\n",
    "from TRACKING import handtracking\n",
    "import cv2\n",
    "import matplotlib.pyplot as plt\n",
    "import numpy as np\n"
   ]
  },
  {
   "cell_type": "code",
   "execution_count": null,
   "metadata": {},
   "outputs": [],
   "source": [
    "# Run this Block to Run Hand Tracking with LIVE STREAM VIDEO\n",
    "zed = ZED(fps=60)"
   ]
  },
  {
   "cell_type": "code",
   "execution_count": 2,
   "metadata": {},
   "outputs": [
    {
     "name": "stdout",
     "output_type": "stream",
     "text": [
      "Reading SVO File: 0\n"
     ]
    }
   ],
   "source": [
    "# Run this Block to Run Hand Tracking with RECORDED VIDEO (.SVO FILE)\n",
    "# And Specify .svo File Name\n",
    "input_name = 'test.svo'\n",
    "zed = ZED(fps=60, input_filename = input_name)"
   ]
  },
  {
   "cell_type": "code",
   "execution_count": 3,
   "metadata": {},
   "outputs": [
    {
     "name": "stdout",
     "output_type": "stream",
     "text": [
      "Open ZED Successfully!\n"
     ]
    }
   ],
   "source": [
    "zed.config_resolution(\"HD720\")\n",
    "zed.config_depth_mode(\"NEURAL\")\n",
    "zed.open_camera(fill_mode=True)\n",
    "zed.get_calibration_params()\n",
    "fx = zed.fx\n",
    "fy = zed.fy\n",
    "cx = zed.cx\n",
    "cy = zed.cy\n",
    "width = zed.camera.get_camera_information().camera_configuration.resolution.width\n",
    "height = zed.camera.get_camera_information().camera_configuration.resolution.height"
   ]
  },
  {
   "cell_type": "code",
   "execution_count": 4,
   "metadata": {},
   "outputs": [
    {
     "name": "stderr",
     "output_type": "stream",
     "text": [
      "INFO: Created TensorFlow Lite XNNPACK delegate for CPU.\n"
     ]
    }
   ],
   "source": [
    "detector = handtracking()"
   ]
  },
  {
   "cell_type": "code",
   "execution_count": null,
   "metadata": {},
   "outputs": [],
   "source": [
    "fig = plt.figure()\n",
    "plt.ion()\n",
    "ax = fig.add_subplot(111, projection='3d')"
   ]
  },
  {
   "cell_type": "code",
   "execution_count": null,
   "metadata": {},
   "outputs": [],
   "source": [
    "while True:\n",
    "    zed.camera.grab(zed.runtime_params)\n",
    "    zed.get_image()\n",
    "    image = zed.image_cv2\n",
    "    point_cloud = zed.point_cloud\n",
    "    image = detector.detect_landmarks(image)\n",
    "    data_left, data_right = detector.get_position(image, point_cloud, fx = fx, fy = fy, width=width, height=height)\n",
    "\n",
    "    if data_right.shape == (21,3) and data_left.shape == (21,3):\n",
    "        data_plot = np.vstack((data_right,data_left))\n",
    "    elif data_right.shape == (21,3):\n",
    "        data_plot = data_right\n",
    "    elif data_left.shape == (21,3):\n",
    "        data_plot = data_left\n",
    "    else:\n",
    "        data_plot = np.array([])\n",
    "    detector.plot(ax,plt,data_plot)\n",
    "\n",
    "    cv2.imshow(\"test\", image)\n",
    "    if cv2.waitKey(1) & 0xFF == ord('q'):\n",
    "        break\n",
    "cv2.destroyAllWindows()"
   ]
  },
  {
   "cell_type": "code",
   "execution_count": null,
   "metadata": {},
   "outputs": [],
   "source": []
  }
 ],
 "metadata": {
  "kernelspec": {
   "display_name": "ZED",
   "language": "python",
   "name": "python3"
  },
  "language_info": {
   "codemirror_mode": {
    "name": "ipython",
    "version": 3
   },
   "file_extension": ".py",
   "mimetype": "text/x-python",
   "name": "python",
   "nbconvert_exporter": "python",
   "pygments_lexer": "ipython3",
   "version": "3.8.18"
  }
 },
 "nbformat": 4,
 "nbformat_minor": 2
}
