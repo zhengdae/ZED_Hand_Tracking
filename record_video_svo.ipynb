{
 "cells": [
  {
   "cell_type": "markdown",
   "id": "7047bffe",
   "metadata": {},
   "source": [
    "## I just use the file to test and play with the camera.\n",
    "## DO NOT USE THIS FILE"
   ]
  },
  {
   "cell_type": "code",
   "execution_count": 1,
   "id": "f3f45216",
   "metadata": {},
   "outputs": [],
   "source": [
    "import cv2\n",
    "import numpy as np\n",
    "import os\n",
    "import pyzed.sl as sl\n",
    "import time\n",
    "from ZED import ZED"
   ]
  },
  {
   "cell_type": "code",
   "execution_count": 2,
   "id": "4a00f632",
   "metadata": {},
   "outputs": [
    {
     "name": "stdout",
     "output_type": "stream",
     "text": [
      "Using Live Stream from ZED\n"
     ]
    }
   ],
   "source": [
    "zed = ZED(fps=60)"
   ]
  },
  {
   "cell_type": "code",
   "execution_count": 3,
   "id": "b9247e65",
   "metadata": {},
   "outputs": [
    {
     "name": "stdout",
     "output_type": "stream",
     "text": [
      "Open ZED Successfully!\n"
     ]
    }
   ],
   "source": [
    "zed.config_resolution(\"HD720\")\n",
    "zed.config_depth_mode(\"None\")\n",
    "zed.open_camera(fill_mode=True)\n",
    "zed.enable_recording(output_filename=\"fill_mode_false.svo\")"
   ]
  },
  {
   "cell_type": "code",
   "execution_count": 4,
   "id": "933895ee",
   "metadata": {},
   "outputs": [],
   "source": [
    "try:\n",
    "    while True:\n",
    "        zed.camera.grab(zed.runtime_params)\n",
    "except KeyboardInterrupt:\n",
    "    pass\n",
    "zed.camera.disable_recording()\n",
    "zed.camera.close()"
   ]
  }
 ],
 "metadata": {
  "kernelspec": {
   "display_name": "Python 3 (ipykernel)",
   "language": "python",
   "name": "python3"
  },
  "language_info": {
   "codemirror_mode": {
    "name": "ipython",
    "version": 3
   },
   "file_extension": ".py",
   "mimetype": "text/x-python",
   "name": "python",
   "nbconvert_exporter": "python",
   "pygments_lexer": "ipython3",
   "version": "3.8.18"
  }
 },
 "nbformat": 4,
 "nbformat_minor": 5
}
