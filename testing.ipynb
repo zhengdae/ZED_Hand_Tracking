{
 "cells": [
  {
   "cell_type": "markdown",
   "id": "7047bffe",
   "metadata": {},
   "source": [
    "## I just use the file to test and play with the camera.\n",
    "## DO NOT USE THIS FILE"
   ]
  },
  {
   "cell_type": "code",
   "execution_count": 1,
   "id": "f3f45216",
   "metadata": {},
   "outputs": [],
   "source": [
    "import cv2\n",
    "import numpy as np\n",
    "import os\n",
    "import pyzed.sl as sl\n",
    "import time\n",
    "from ZED import ZED"
   ]
  },
  {
   "cell_type": "code",
   "execution_count": 2,
   "id": "4a00f632",
   "metadata": {},
   "outputs": [
    {
     "name": "stdout",
     "output_type": "stream",
     "text": [
      "Using Live Stream from ZED\n"
     ]
    }
   ],
   "source": [
    "zed = ZED(fps=60)"
   ]
  },
  {
   "cell_type": "code",
   "execution_count": 3,
   "id": "b9247e65",
   "metadata": {},
   "outputs": [
    {
     "name": "stdout",
     "output_type": "stream",
     "text": [
      "Open ZED Successfully!\n"
     ]
    }
   ],
   "source": [
    "zed.config_resolution(\"HD720\")\n",
    "zed.config_depth_mode(\"None\")\n",
    "zed.open_camera(fill_mode=True)\n",
    "zed.enable_recording(output_filename=\"test.svo\")"
   ]
  },
  {
   "cell_type": "code",
   "execution_count": 5,
   "id": "933895ee",
   "metadata": {},
   "outputs": [
    {
     "ename": "KeyboardInterrupt",
     "evalue": "",
     "output_type": "error",
     "traceback": [
      "\u001b[0;31m---------------------------------------------------------------------------\u001b[0m",
      "\u001b[0;31mKeyboardInterrupt\u001b[0m                         Traceback (most recent call last)",
      "\u001b[1;32m/home/drowland-admin/yzheng/hand_tracking/testing.ipynb Cell 5\u001b[0m line \u001b[0;36m2\n\u001b[1;32m      <a href='vscode-notebook-cell:/home/drowland-admin/yzheng/hand_tracking/testing.ipynb#W4sZmlsZQ%3D%3D?line=0'>1</a>\u001b[0m \u001b[39mwhile\u001b[39;00m \u001b[39mTrue\u001b[39;00m:\n\u001b[0;32m----> <a href='vscode-notebook-cell:/home/drowland-admin/yzheng/hand_tracking/testing.ipynb#W4sZmlsZQ%3D%3D?line=1'>2</a>\u001b[0m     zed\u001b[39m.\u001b[39;49mcamera\u001b[39m.\u001b[39;49mgrab(zed\u001b[39m.\u001b[39;49mruntime_params)\n\u001b[1;32m      <a href='vscode-notebook-cell:/home/drowland-admin/yzheng/hand_tracking/testing.ipynb#W4sZmlsZQ%3D%3D?line=2'>3</a>\u001b[0m     \u001b[39mif\u001b[39;00m cv2\u001b[39m.\u001b[39mwaitKey(\u001b[39m1\u001b[39m) \u001b[39m&\u001b[39m \u001b[39m0xFF\u001b[39m \u001b[39m==\u001b[39m \u001b[39mord\u001b[39m(\u001b[39m'\u001b[39m\u001b[39mq\u001b[39m\u001b[39m'\u001b[39m):\n\u001b[1;32m      <a href='vscode-notebook-cell:/home/drowland-admin/yzheng/hand_tracking/testing.ipynb#W4sZmlsZQ%3D%3D?line=3'>4</a>\u001b[0m         \u001b[39mbreak\u001b[39;00m\n",
      "File \u001b[0;32mpyzed/sl.pyx:8725\u001b[0m, in \u001b[0;36mpyzed.sl.Camera.grab\u001b[0;34m()\u001b[0m\n",
      "File \u001b[0;32m~/miniconda3/envs/ZED/lib/python3.8/enum.py:313\u001b[0m, in \u001b[0;36mEnumMeta.__call__\u001b[0;34m(cls, value, names, module, qualname, type, start)\u001b[0m\n\u001b[1;32m    308\u001b[0m \u001b[39m    \u001b[39m\u001b[39m\"\"\"\u001b[39;00m\n\u001b[1;32m    309\u001b[0m \u001b[39m    classes/types should always be True.\u001b[39;00m\n\u001b[1;32m    310\u001b[0m \u001b[39m    \"\"\"\u001b[39;00m\n\u001b[1;32m    311\u001b[0m     \u001b[39mreturn\u001b[39;00m \u001b[39mTrue\u001b[39;00m\n\u001b[0;32m--> 313\u001b[0m \u001b[39mdef\u001b[39;00m \u001b[39m__call__\u001b[39m(\u001b[39mcls\u001b[39m, value, names\u001b[39m=\u001b[39m\u001b[39mNone\u001b[39;00m, \u001b[39m*\u001b[39m, module\u001b[39m=\u001b[39m\u001b[39mNone\u001b[39;00m, qualname\u001b[39m=\u001b[39m\u001b[39mNone\u001b[39;00m, \u001b[39mtype\u001b[39m\u001b[39m=\u001b[39m\u001b[39mNone\u001b[39;00m, start\u001b[39m=\u001b[39m\u001b[39m1\u001b[39m):\n\u001b[1;32m    314\u001b[0m \u001b[39m    \u001b[39m\u001b[39m\"\"\"\u001b[39;00m\n\u001b[1;32m    315\u001b[0m \u001b[39m    Either returns an existing member, or creates a new enum class.\u001b[39;00m\n\u001b[1;32m    316\u001b[0m \n\u001b[0;32m   (...)\u001b[0m\n\u001b[1;32m    336\u001b[0m \u001b[39m    `type`, if set, will be mixed in as the first base class.\u001b[39;00m\n\u001b[1;32m    337\u001b[0m \u001b[39m    \"\"\"\u001b[39;00m\n\u001b[1;32m    338\u001b[0m     \u001b[39mif\u001b[39;00m names \u001b[39mis\u001b[39;00m \u001b[39mNone\u001b[39;00m:  \u001b[39m# simple value lookup\u001b[39;00m\n",
      "\u001b[0;31mKeyboardInterrupt\u001b[0m: "
     ]
    }
   ],
   "source": [
    "try:\n",
    "    while True:\n",
    "        zed.camera.grab(zed.runtime_params)\n",
    "except KeyboardInterrupt:\n",
    "    pass\n",
    "zed.camera.disable_recording()\n",
    "zed.camera.close()"
   ]
  }
 ],
 "metadata": {
  "kernelspec": {
   "display_name": "Python 3 (ipykernel)",
   "language": "python",
   "name": "python3"
  },
  "language_info": {
   "codemirror_mode": {
    "name": "ipython",
    "version": 3
   },
   "file_extension": ".py",
   "mimetype": "text/x-python",
   "name": "python",
   "nbconvert_exporter": "python",
   "pygments_lexer": "ipython3",
   "version": "3.8.18"
  }
 },
 "nbformat": 4,
 "nbformat_minor": 5
}
